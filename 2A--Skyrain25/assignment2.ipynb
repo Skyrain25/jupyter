{
 "cells": [
  {
   "cell_type": "markdown",
   "metadata": {},
   "source": [
    "# Assignment \\#2\n",
    "\n",
    "\n",
    "**Due Date:** December 1, 2018 (11:40pm)\n",
    "\n",
    "\n",
    "\n",
    "- - -\n"
   ]
  },
  {
   "cell_type": "markdown",
   "metadata": {},
   "source": [
    "## Question \\#0 $[2\\ points]$ \n",
    "\n",
    "Which algorithm discussed in the course was *co-developed* by the person below?\n",
    "\n",
    "- - -\n",
    "![question 0](https://openclipart.org/image/300px/svg_to_png/137407/1304882618.png)\n",
    "\n",
    "</br>\n",
    "\n",
    "**Answer:** The KMP algorithm was co-developed by Donald Knuth.\n",
    "- - -\n",
    "\n",
    "\n",
    "\n"
   ]
  },
  {
   "cell_type": "markdown",
   "metadata": {},
   "source": [
    "## Question \\#1 \n",
    "\n",
    "### (a) $[12\\ points]$\n",
    "\n",
    "\n",
    "Prove (by induction on $h$) that\n",
    "\n",
    "$$ \\sum_{i=0}^h (h-i)2^i = 2^{h+1}-h-2$$ \n",
    "\n",
    "</br> </br>Note that the left-hand side (LHS) of the above expression equals\n",
    "\n",
    "$$(h-0)2^0+(h-1)2^1+(h-2)2^2+\\cdots + (h-[h-2])2^{h-2} + (h-[h-1])2^{h-1} + (h-[h])2^{h}$$\n",
    "- - -\n",
    "\n",
    "### Answer Outline\n",
    "\n",
    "**Base case:**\n",
    "\n",
    "- - - \n",
    "Let h=0, then \n",
    "\n",
    "$$(0 - 0)2^0 = 0$$\n",
    "\n",
    "and \n",
    "\n",
    "$$2^{h+1}-h-2 = 2^{0+1}-0-2 = 2^1-0-2 = 2-0-2 = 0$$\n",
    "\n",
    "\n",
    "**Assumption:**\n",
    "\n",
    "- - -\n",
    "Assume that P(h) is true, that is \n",
    "\n",
    "$$ \\sum_{i=0}^h (h-i)2^i = 2^{h+1}-h-2$$\n",
    "\n",
    "\n",
    "**Inductive step:**\n",
    "\n",
    "We need to show that P(h+1) is also true, that is \n",
    "$$ \\sum_{i=0}^{h+1} (h-i)2^i = 2^{h+2}-{h+1}-2$$\n",
    "\n",
    "\n",
    "$$(h-0)2^0+(h-1)2^1+(h-2)2^2+\\cdots + (h-[h-2])2^{h-2} + (h-[h-1])2^{h-1} + (h-[h])2^{h} + ((h+1)-[h+1])2^{h+1}$$\n",
    " \n",
    "$$ \\sum_{i=0}^{h+1} (h-i)2^i = \\sum_{i=0}^h (h-i)2^i + ((h+1)-[h+1])2^{h+1}$$\n",
    "                             $$= 2^{h+1}-h-2+((h+1)-[h+1])2^{h+1}$$\n",
    "\n",
    "### (b) $[2\\ points]$\n",
    "\n",
    "What algorithm (discussed in the course) does the above expression relate to?\n",
    "\n",
    "</br>\n",
    "\n",
    "**Answer:** Recursive algorithms\n",
    "\n",
    "- - -\n",
    "\n"
   ]
  },
  {
   "cell_type": "markdown",
   "metadata": {},
   "source": [
    "- - -\n",
    "\n",
    "## Question \\# 2 $[20\\ points]$\n",
    "\n",
    "Complete the program `dfs.cpp` (provided in the assignment folder) which uses the *DFS* algorithm to output the (\"*name*\" of the largest component) followed by the number of nodes in that component.\n",
    "\n",
    "</br>\n",
    "Your program should produce the correct output for the two(2) sample graphs provided [$G_1$](data/g1.el) and [$G_2$](data/g2.el).\n",
    "\n",
    "You are free to add as many `cerr` statements as you wish, **HOWEVER, do not add any more** `cout` statements anywhere in the code!! This ensures that running the command `make tests` will output only four numbers to the screen (the two outputs required for each sample graph provided)."
   ]
  },
  {
   "cell_type": "markdown",
   "metadata": {},
   "source": [
    "- - -\n",
    "\n",
    "## Question \\#3 $[4\\ points]$\n",
    "\n",
    "Suppose someone says to you that they have developed an algorithm which can sort $n$ elements with a worst case order of growth (efficiency class) of  $\\sqrt{n}\\log n$. What should your response be?\n",
    "\n",
    "</br>\n",
    "\n",
    "*Hint*: See Section 11.1\n",
    "\n",
    "\n",
    "**Answer:**\n",
    "The simplest method of obtaining a lower-bound class is based on counting the number of items in the problem’s input that must be processed and the number of output items that need to be produced. Since any algorithm must at least “read” all the items it needs to process and “write” all its output, such a count yields a trivial lower bound, but there is an obstacle in deriving a meaningful lower bound by this method. It lies in determining which part of an input must be processed by any algorithm solving the problem in question. For example, searching for an element of a given value in a sorted array does not require processing all its elements. \n"
   ]
  },
  {
   "cell_type": "markdown",
   "metadata": {},
   "source": [
    "- - -\n",
    "\n",
    "## Question \\#4 $[4\\ points]$\n",
    "\n",
    "In the Lectures, we mentioned the seven (7) Millennial Problems by the Clay Math Institute. Which of the problems has been solved? What was done with the prize money? \n",
    "\n",
    "</br>\n",
    "\n",
    "\n",
    "**Answer:**\n",
    "Grigori Perelman, one of the world's finest mathematical minds solved one of the world's most complicated math problems in 2003. The Poincare Conjecture was the first of the seven Millennium Prize Problems to be solved. Perelman was awarded $1 million dollars for solving this problem, but he turned it down.\n"
   ]
  },
  {
   "cell_type": "markdown",
   "metadata": {},
   "source": [
    "- - -\n",
    "\n",
    "## Question \\#5 $[6\\ points]$\n",
    "\n",
    "In the Lectures we showed/will show how to *reduce* a simple instance of the SAT problem into an instance of the Independent Set problem. Show that this reduction can be done in polynomial time for a SAT instance with $c_1$ literals in the first clause, $c_2$ literals in the second clause, and so on.\n",
    "\n",
    "</br>\n",
    "\n",
    "**Answer:** \n"
   ]
  },
  {
   "cell_type": "markdown",
   "metadata": {},
   "source": [
    "- - -\n",
    "## Marks\n",
    "| Question | Mark |\n",
    "|:---------|:----:|\n",
    "| Q0 | |\n",
    "| Q1 | |\n",
    "| Q2 | |\n",
    "| Q3 | |\n",
    "| Q4 | |\n",
    "| Q5 | |\n",
    "|**Total**|**** |"
   ]
  }
 ],
 "metadata": {
  "kernelspec": {
   "display_name": "Python 3",
   "language": "python",
   "name": "python3"
  },
  "language_info": {
   "codemirror_mode": {
    "name": "ipython",
    "version": 3
   },
   "file_extension": ".py",
   "mimetype": "text/x-python",
   "name": "python",
   "nbconvert_exporter": "python",
   "pygments_lexer": "ipython3",
   "version": "3.6.6"
  }
 },
 "nbformat": 4,
 "nbformat_minor": 2
}
